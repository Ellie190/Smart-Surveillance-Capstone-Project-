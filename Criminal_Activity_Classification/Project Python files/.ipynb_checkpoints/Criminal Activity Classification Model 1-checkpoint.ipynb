{
 "cells": [
  {
   "cell_type": "markdown",
   "metadata": {
    "toc": true
   },
   "source": [
    "<h1>Table of Contents<span class=\"tocSkip\"></span></h1>\n",
    "<div class=\"toc\"><ul class=\"toc-item\"><li><span><a href=\"#Criminal-Activity-Classification-Model-1\" data-toc-modified-id=\"Criminal-Activity-Classification-Model-1-1\"><span class=\"toc-item-num\">1&nbsp;&nbsp;</span>Criminal Activity Classification Model 1</a></span><ul class=\"toc-item\"><li><span><a href=\"#Libraries\" data-toc-modified-id=\"Libraries-1.1\"><span class=\"toc-item-num\">1.1&nbsp;&nbsp;</span>Libraries</a></span></li><li><span><a href=\"#Data-Reading\" data-toc-modified-id=\"Data-Reading-1.2\"><span class=\"toc-item-num\">1.2&nbsp;&nbsp;</span>Data Reading</a></span></li><li><span><a href=\"#Data-Encoding\" data-toc-modified-id=\"Data-Encoding-1.3\"><span class=\"toc-item-num\">1.3&nbsp;&nbsp;</span>Data Encoding</a></span></li><li><span><a href=\"#Data-Augmentation\" data-toc-modified-id=\"Data-Augmentation-1.4\"><span class=\"toc-item-num\">1.4&nbsp;&nbsp;</span>Data Augmentation</a></span></li><li><span><a href=\"#Transfer-Learning-via-Fine-tuning-(Model-Define)\" data-toc-modified-id=\"Transfer-Learning-via-Fine-tuning-(Model-Define)-1.5\"><span class=\"toc-item-num\">1.5&nbsp;&nbsp;</span>Transfer Learning via Fine-tuning (Model Define)</a></span></li><li><span><a href=\"#Model-Compile-and-Fit\" data-toc-modified-id=\"Model-Compile-and-Fit-1.6\"><span class=\"toc-item-num\">1.6&nbsp;&nbsp;</span>Model Compile and Fit</a></span></li><li><span><a href=\"#Model-Evaluate\" data-toc-modified-id=\"Model-Evaluate-1.7\"><span class=\"toc-item-num\">1.7&nbsp;&nbsp;</span>Model Evaluate</a></span></li><li><span><a href=\"#Model-Train-Loss-and-Accuracy-Plot\" data-toc-modified-id=\"Model-Train-Loss-and-Accuracy-Plot-1.8\"><span class=\"toc-item-num\">1.8&nbsp;&nbsp;</span>Model Train Loss and Accuracy Plot</a></span></li><li><span><a href=\"#Model-Save\" data-toc-modified-id=\"Model-Save-1.9\"><span class=\"toc-item-num\">1.9&nbsp;&nbsp;</span>Model Save</a></span></li></ul></li></ul></div>"
   ]
  },
  {
   "cell_type": "markdown",
   "metadata": {},
   "source": [
    "# Criminal Activity Classification Model 1"
   ]
  },
  {
   "cell_type": "markdown",
   "metadata": {},
   "source": [
    "## Libraries "
   ]
  },
  {
   "cell_type": "code",
   "execution_count": 1,
   "metadata": {},
   "outputs": [
    {
     "name": "stderr",
     "output_type": "stream",
     "text": [
      "Using TensorFlow backend.\n",
      "C:\\Users\\Student\\AppData\\Roaming\\Python\\Python36\\site-packages\\tensorflow\\python\\framework\\dtypes.py:516: FutureWarning: Passing (type, 1) or '1type' as a synonym of type is deprecated; in a future version of numpy, it will be understood as (type, (1,)) / '(1,)type'.\n",
      "  _np_qint8 = np.dtype([(\"qint8\", np.int8, 1)])\n",
      "C:\\Users\\Student\\AppData\\Roaming\\Python\\Python36\\site-packages\\tensorflow\\python\\framework\\dtypes.py:517: FutureWarning: Passing (type, 1) or '1type' as a synonym of type is deprecated; in a future version of numpy, it will be understood as (type, (1,)) / '(1,)type'.\n",
      "  _np_quint8 = np.dtype([(\"quint8\", np.uint8, 1)])\n",
      "C:\\Users\\Student\\AppData\\Roaming\\Python\\Python36\\site-packages\\tensorflow\\python\\framework\\dtypes.py:518: FutureWarning: Passing (type, 1) or '1type' as a synonym of type is deprecated; in a future version of numpy, it will be understood as (type, (1,)) / '(1,)type'.\n",
      "  _np_qint16 = np.dtype([(\"qint16\", np.int16, 1)])\n",
      "C:\\Users\\Student\\AppData\\Roaming\\Python\\Python36\\site-packages\\tensorflow\\python\\framework\\dtypes.py:519: FutureWarning: Passing (type, 1) or '1type' as a synonym of type is deprecated; in a future version of numpy, it will be understood as (type, (1,)) / '(1,)type'.\n",
      "  _np_quint16 = np.dtype([(\"quint16\", np.uint16, 1)])\n",
      "C:\\Users\\Student\\AppData\\Roaming\\Python\\Python36\\site-packages\\tensorflow\\python\\framework\\dtypes.py:520: FutureWarning: Passing (type, 1) or '1type' as a synonym of type is deprecated; in a future version of numpy, it will be understood as (type, (1,)) / '(1,)type'.\n",
      "  _np_qint32 = np.dtype([(\"qint32\", np.int32, 1)])\n",
      "C:\\Users\\Student\\AppData\\Roaming\\Python\\Python36\\site-packages\\tensorflow\\python\\framework\\dtypes.py:525: FutureWarning: Passing (type, 1) or '1type' as a synonym of type is deprecated; in a future version of numpy, it will be understood as (type, (1,)) / '(1,)type'.\n",
      "  np_resource = np.dtype([(\"resource\", np.ubyte, 1)])\n",
      "C:\\Users\\Student\\AppData\\Roaming\\Python\\Python36\\site-packages\\tensorboard\\compat\\tensorflow_stub\\dtypes.py:541: FutureWarning: Passing (type, 1) or '1type' as a synonym of type is deprecated; in a future version of numpy, it will be understood as (type, (1,)) / '(1,)type'.\n",
      "  _np_qint8 = np.dtype([(\"qint8\", np.int8, 1)])\n",
      "C:\\Users\\Student\\AppData\\Roaming\\Python\\Python36\\site-packages\\tensorboard\\compat\\tensorflow_stub\\dtypes.py:542: FutureWarning: Passing (type, 1) or '1type' as a synonym of type is deprecated; in a future version of numpy, it will be understood as (type, (1,)) / '(1,)type'.\n",
      "  _np_quint8 = np.dtype([(\"quint8\", np.uint8, 1)])\n",
      "C:\\Users\\Student\\AppData\\Roaming\\Python\\Python36\\site-packages\\tensorboard\\compat\\tensorflow_stub\\dtypes.py:543: FutureWarning: Passing (type, 1) or '1type' as a synonym of type is deprecated; in a future version of numpy, it will be understood as (type, (1,)) / '(1,)type'.\n",
      "  _np_qint16 = np.dtype([(\"qint16\", np.int16, 1)])\n",
      "C:\\Users\\Student\\AppData\\Roaming\\Python\\Python36\\site-packages\\tensorboard\\compat\\tensorflow_stub\\dtypes.py:544: FutureWarning: Passing (type, 1) or '1type' as a synonym of type is deprecated; in a future version of numpy, it will be understood as (type, (1,)) / '(1,)type'.\n",
      "  _np_quint16 = np.dtype([(\"quint16\", np.uint16, 1)])\n",
      "C:\\Users\\Student\\AppData\\Roaming\\Python\\Python36\\site-packages\\tensorboard\\compat\\tensorflow_stub\\dtypes.py:545: FutureWarning: Passing (type, 1) or '1type' as a synonym of type is deprecated; in a future version of numpy, it will be understood as (type, (1,)) / '(1,)type'.\n",
      "  _np_qint32 = np.dtype([(\"qint32\", np.int32, 1)])\n",
      "C:\\Users\\Student\\AppData\\Roaming\\Python\\Python36\\site-packages\\tensorboard\\compat\\tensorflow_stub\\dtypes.py:550: FutureWarning: Passing (type, 1) or '1type' as a synonym of type is deprecated; in a future version of numpy, it will be understood as (type, (1,)) / '(1,)type'.\n",
      "  np_resource = np.dtype([(\"resource\", np.ubyte, 1)])\n"
     ]
    }
   ],
   "source": [
    "# set the matplotlib backend so figures can be saved in the background\n",
    "import matplotlib\n",
    "matplotlib.use(\"Agg\")\n",
    "# import the necessary packages\n",
    "from keras.preprocessing.image import ImageDataGenerator\n",
    "from keras.layers.pooling import AveragePooling2D\n",
    "from keras.applications import ResNet50\n",
    "from keras.layers.core import Dropout\n",
    "from keras.layers.core import Flatten\n",
    "from keras.layers.core import Dense\n",
    "from keras.layers import Input\n",
    "from keras.models import Model\n",
    "from keras.optimizers import SGD\n",
    "from sklearn.preprocessing import LabelBinarizer\n",
    "from sklearn.model_selection import train_test_split\n",
    "from sklearn.metrics import classification_report\n",
    "from imutils import paths\n",
    "import matplotlib.pyplot as plt\n",
    "import numpy as np\n",
    "import argparse\n",
    "import pickle\n",
    "import cv2\n",
    "import os"
   ]
  },
  {
   "cell_type": "markdown",
   "metadata": {},
   "source": [
    "## Data Reading "
   ]
  },
  {
   "cell_type": "code",
   "execution_count": 2,
   "metadata": {},
   "outputs": [
    {
     "name": "stdout",
     "output_type": "stream",
     "text": [
      "[INFO] loading images...\n",
      "[INFO] loading complete.\n"
     ]
    }
   ],
   "source": [
    "# initialize the set of labels from the spots activity dataset we are\n",
    "# going to train our network on\n",
    "LABELS = set([\"Arson\", \"Common_Assault\", \"Weapon\"])\n",
    "# grab the list of images in our dataset directory, then initialize\n",
    "# the list of data (i.e., images) and class images\n",
    "print(\"[INFO] loading images...\")\n",
    "imagePaths = list(paths.list_images(\"C:/Users/Student/crime-activity-classification/CrimeData/data\")) \n",
    "data = []\n",
    "labels = []\n",
    "# loop over the image paths\n",
    "for imagePath in imagePaths:\n",
    "    # extract the class label from the filename\n",
    "    label = imagePath.split(os.path.sep)[-2]\n",
    "    # if the label of the current image is not part of of the labels\n",
    "    # are interested in, then ignore the image\n",
    "    if label not in LABELS:\n",
    "        continue\n",
    "    # load the image, convert it to RGB channel ordering, and resize\n",
    "    #swapping color channels for OpenCV to Keras compatibility\n",
    "    # it to be a fixed 224x224 pixels, ignoring aspect ratio\n",
    "    image = cv2.imread(imagePath)\n",
    "    image = cv2.cvtColor(image, cv2.COLOR_BGR2RGB)\n",
    "    image = cv2.resize(image, (224, 224))\n",
    "    # update the data and labels lists, respectively\n",
    "    data.append(image)\n",
    "    labels.append(label)\n",
    "    \n",
    "print(\"[INFO] loading complete.\")"
   ]
  },
  {
   "cell_type": "markdown",
   "metadata": {},
   "source": [
    "## Data Encoding "
   ]
  },
  {
   "cell_type": "code",
   "execution_count": 3,
   "metadata": {},
   "outputs": [],
   "source": [
    "# convert the data and labels to NumPy arrays\n",
    "data = np.array(data)\n",
    "labels = np.array(labels)\n",
    "\n",
    "# perform one-hot encoding on the labels\n",
    "lb = LabelBinarizer()\n",
    "labels = lb.fit_transform(labels)\n",
    "\n",
    "# partition the data into training and testing splits using 75% of\n",
    "# the data for training and the remaining 25% for testing\n",
    "(trainX, testX, trainY, testY) = train_test_split(data, labels,\n",
    "    test_size=0.25, stratify=labels, random_state=42)"
   ]
  },
  {
   "cell_type": "markdown",
   "metadata": {},
   "source": [
    "## Data Augmentation "
   ]
  },
  {
   "cell_type": "code",
   "execution_count": 4,
   "metadata": {},
   "outputs": [],
   "source": [
    "# initialize the training data augmentation object\n",
    "trainAug = ImageDataGenerator(\n",
    "    rotation_range=30,\n",
    "    zoom_range=0.15,\n",
    "    width_shift_range=0.2,\n",
    "    height_shift_range=0.2,\n",
    "    shear_range=0.15,\n",
    "    horizontal_flip=True,\n",
    "    fill_mode=\"nearest\")\n",
    "\n",
    "# initialize the validation/testing data augmentation object (which\n",
    "# we'll be adding mean subtraction to)\n",
    "valAug = ImageDataGenerator()\n",
    "\n",
    "# define the ImageNet mean subtraction (in RGB order) and set the\n",
    "# the mean subtraction value for each of the data augmentation\n",
    "# objects\n",
    "mean = np.array([123.68, 116.779, 103.939], dtype=\"float32\")\n",
    "trainAug.mean = mean\n",
    "valAug.mean = mean"
   ]
  },
  {
   "cell_type": "markdown",
   "metadata": {},
   "source": [
    "## Transfer Learning via Fine-tuning (Model Define)"
   ]
  },
  {
   "cell_type": "code",
   "execution_count": 5,
   "metadata": {},
   "outputs": [
    {
     "name": "stdout",
     "output_type": "stream",
     "text": [
      "WARNING:tensorflow:From C:\\Users\\Student\\Anaconda3\\lib\\site-packages\\keras\\backend\\tensorflow_backend.py:4070: The name tf.nn.max_pool is deprecated. Please use tf.nn.max_pool2d instead.\n",
      "\n"
     ]
    },
    {
     "name": "stderr",
     "output_type": "stream",
     "text": [
      "C:\\Users\\Student\\AppData\\Roaming\\Python\\Python36\\site-packages\\keras_applications\\resnet50.py:265: UserWarning: The output shape of `ResNet50(include_top=False)` has been changed since Keras 2.2.0.\n",
      "  warnings.warn('The output shape of `ResNet50(include_top=False)` '\n"
     ]
    },
    {
     "name": "stdout",
     "output_type": "stream",
     "text": [
      "WARNING:tensorflow:From C:\\Users\\Student\\Anaconda3\\lib\\site-packages\\keras\\backend\\tensorflow_backend.py:4074: The name tf.nn.avg_pool is deprecated. Please use tf.nn.avg_pool2d instead.\n",
      "\n"
     ]
    }
   ],
   "source": [
    "# load the ResNet-50 network, ensuring the head FC layer sets are left\n",
    "# off\n",
    "baseModel = ResNet50(weights=\"imagenet\", include_top=False,\n",
    "    input_tensor=Input(shape=(224, 224, 3)))\n",
    "\n",
    "# construct the head of the model that will be placed on top of the\n",
    "# the base model\n",
    "headModel = baseModel.output\n",
    "headModel = AveragePooling2D(pool_size=(7, 7))(headModel)\n",
    "headModel = Flatten(name=\"flatten\")(headModel)\n",
    "headModel = Dense(512, activation=\"relu\")(headModel)\n",
    "headModel = Dropout(0.5)(headModel)\n",
    "headModel = Dense(len(lb.classes_), activation=\"softmax\")(headModel)\n",
    "\n",
    "# place the head FC model on top of the base model (this will become\n",
    "# the actual model we will train)\n",
    "model = Model(inputs=baseModel.input, outputs=headModel)\n",
    "\n",
    "# loop over all layers in the base model and freeze them so they will\n",
    "# *not* be updated during the training process\n",
    "for layer in baseModel.layers:\n",
    "    layer.trainable = False"
   ]
  },
  {
   "cell_type": "markdown",
   "metadata": {},
   "source": [
    "## Model Compile and Fit"
   ]
  },
  {
   "cell_type": "code",
   "execution_count": 6,
   "metadata": {},
   "outputs": [
    {
     "name": "stdout",
     "output_type": "stream",
     "text": [
      "[INFO] compiling model...\n",
      "[INFO] training head...\n",
      "WARNING:tensorflow:From C:\\Users\\Student\\Anaconda3\\lib\\site-packages\\keras\\backend\\tensorflow_backend.py:422: The name tf.global_variables is deprecated. Please use tf.compat.v1.global_variables instead.\n",
      "\n",
      "Epoch 1/50\n",
      "18/18 [==============================] - 222s 12s/step - loss: 1.1234 - accuracy: 0.4720 - val_loss: 1.0081 - val_accuracy: 0.5260\n",
      "Epoch 2/50\n",
      "18/18 [==============================] - 207s 11s/step - loss: 1.0547 - accuracy: 0.5389 - val_loss: 0.8023 - val_accuracy: 0.6524\n",
      "Epoch 3/50\n",
      "18/18 [==============================] - 208s 12s/step - loss: 0.9198 - accuracy: 0.5588 - val_loss: 0.5867 - val_accuracy: 0.7744\n",
      "Epoch 4/50\n",
      "18/18 [==============================] - 241s 13s/step - loss: 0.8083 - accuracy: 0.6365 - val_loss: 0.5344 - val_accuracy: 0.7744\n",
      "Epoch 5/50\n",
      "18/18 [==============================] - 228s 13s/step - loss: 0.7607 - accuracy: 0.6546 - val_loss: 0.4737 - val_accuracy: 0.8720\n",
      "Epoch 6/50\n",
      "18/18 [==============================] - 224s 12s/step - loss: 0.6714 - accuracy: 0.7215 - val_loss: 0.3517 - val_accuracy: 0.8659\n",
      "Epoch 7/50\n",
      "18/18 [==============================] - 222s 12s/step - loss: 0.6346 - accuracy: 0.7292 - val_loss: 0.2678 - val_accuracy: 0.8659\n",
      "Epoch 8/50\n",
      "18/18 [==============================] - 211s 12s/step - loss: 0.5941 - accuracy: 0.7613 - val_loss: 0.4282 - val_accuracy: 0.9010\n",
      "Epoch 9/50\n",
      "18/18 [==============================] - 203s 11s/step - loss: 0.5663 - accuracy: 0.7642 - val_loss: 0.3374 - val_accuracy: 0.8963\n",
      "Epoch 10/50\n",
      "18/18 [==============================] - 228s 13s/step - loss: 0.5322 - accuracy: 0.8021 - val_loss: 0.2534 - val_accuracy: 0.9024\n",
      "Epoch 11/50\n",
      "18/18 [==============================] - 223s 12s/step - loss: 0.5482 - accuracy: 0.8132 - val_loss: 0.3452 - val_accuracy: 0.8659\n",
      "Epoch 12/50\n",
      "18/18 [==============================] - 213s 12s/step - loss: 0.4801 - accuracy: 0.8229 - val_loss: 0.2995 - val_accuracy: 0.9146\n",
      "Epoch 13/50\n",
      "18/18 [==============================] - 214s 12s/step - loss: 0.4618 - accuracy: 0.8192 - val_loss: 0.2420 - val_accuracy: 0.9207\n",
      "Epoch 14/50\n",
      "18/18 [==============================] - 215s 12s/step - loss: 0.4143 - accuracy: 0.8517 - val_loss: 0.1588 - val_accuracy: 0.9268\n",
      "Epoch 15/50\n",
      "18/18 [==============================] - 221s 12s/step - loss: 0.4224 - accuracy: 0.8427 - val_loss: 0.1946 - val_accuracy: 0.9271\n",
      "Epoch 16/50\n",
      "18/18 [==============================] - 211s 12s/step - loss: 0.3905 - accuracy: 0.8499 - val_loss: 0.2277 - val_accuracy: 0.9207\n",
      "Epoch 17/50\n",
      "18/18 [==============================] - 214s 12s/step - loss: 0.3745 - accuracy: 0.8662 - val_loss: 0.1936 - val_accuracy: 0.9268\n",
      "Epoch 18/50\n",
      "18/18 [==============================] - 217s 12s/step - loss: 0.3426 - accuracy: 0.8825 - val_loss: 0.3093 - val_accuracy: 0.9146\n",
      "Epoch 19/50\n",
      "18/18 [==============================] - 212s 12s/step - loss: 0.4064 - accuracy: 0.8626 - val_loss: 0.2193 - val_accuracy: 0.9207\n",
      "Epoch 20/50\n",
      "18/18 [==============================] - 218s 12s/step - loss: 0.3616 - accuracy: 0.8843 - val_loss: 0.3935 - val_accuracy: 0.9268\n",
      "Epoch 21/50\n",
      "18/18 [==============================] - 216s 12s/step - loss: 0.3180 - accuracy: 0.8897 - val_loss: 0.0861 - val_accuracy: 0.9512\n",
      "Epoch 22/50\n",
      "18/18 [==============================] - 221s 12s/step - loss: 0.3529 - accuracy: 0.8879 - val_loss: 0.1531 - val_accuracy: 0.9375\n",
      "Epoch 23/50\n",
      "18/18 [==============================] - 224s 12s/step - loss: 0.3342 - accuracy: 0.8715 - val_loss: 0.1980 - val_accuracy: 0.9390\n",
      "Epoch 24/50\n",
      "18/18 [==============================] - 207s 12s/step - loss: 0.3268 - accuracy: 0.8642 - val_loss: 0.1042 - val_accuracy: 0.9451\n",
      "Epoch 25/50\n",
      "18/18 [==============================] - 224s 12s/step - loss: 0.3093 - accuracy: 0.8987 - val_loss: 0.1135 - val_accuracy: 0.9756\n",
      "Epoch 26/50\n",
      "18/18 [==============================] - 220s 12s/step - loss: 0.2856 - accuracy: 0.8958 - val_loss: 0.2420 - val_accuracy: 0.9146\n",
      "Epoch 27/50\n",
      "18/18 [==============================] - 204s 11s/step - loss: 0.3244 - accuracy: 0.9024 - val_loss: 0.2784 - val_accuracy: 0.9329\n",
      "Epoch 28/50\n",
      "18/18 [==============================] - 204s 11s/step - loss: 0.2912 - accuracy: 0.9042 - val_loss: 0.0748 - val_accuracy: 0.9512\n",
      "Epoch 29/50\n",
      "18/18 [==============================] - 222s 12s/step - loss: 0.2674 - accuracy: 0.9264 - val_loss: 0.2197 - val_accuracy: 0.9375\n",
      "Epoch 30/50\n",
      "18/18 [==============================] - 223s 12s/step - loss: 0.2732 - accuracy: 0.9097 - val_loss: 0.2678 - val_accuracy: 0.9451\n",
      "Epoch 31/50\n",
      "18/18 [==============================] - 231s 13s/step - loss: 0.2804 - accuracy: 0.8933 - val_loss: 0.0652 - val_accuracy: 0.9390\n",
      "Epoch 32/50\n",
      "18/18 [==============================] - 222s 12s/step - loss: 0.2916 - accuracy: 0.8969 - val_loss: 0.1856 - val_accuracy: 0.9390\n",
      "Epoch 33/50\n",
      "18/18 [==============================] - 224s 12s/step - loss: 0.2553 - accuracy: 0.9277 - val_loss: 0.2415 - val_accuracy: 0.9634\n",
      "Epoch 34/50\n",
      "18/18 [==============================] - 239s 13s/step - loss: 0.2798 - accuracy: 0.8933 - val_loss: 0.1304 - val_accuracy: 0.9451\n",
      "Epoch 35/50\n",
      "18/18 [==============================] - 252s 14s/step - loss: 0.2576 - accuracy: 0.9114 - val_loss: 0.1040 - val_accuracy: 0.9451\n",
      "Epoch 36/50\n",
      "18/18 [==============================] - 235s 13s/step - loss: 0.2752 - accuracy: 0.8987 - val_loss: 0.3129 - val_accuracy: 0.9531\n",
      "Epoch 37/50\n",
      "18/18 [==============================] - 267s 15s/step - loss: 0.2487 - accuracy: 0.9150 - val_loss: 0.1339 - val_accuracy: 0.9512\n",
      "Epoch 38/50\n",
      "18/18 [==============================] - 232s 13s/step - loss: 0.2308 - accuracy: 0.9186 - val_loss: 0.1766 - val_accuracy: 0.9512\n",
      "Epoch 39/50\n",
      "18/18 [==============================] - 258s 14s/step - loss: 0.2335 - accuracy: 0.9241 - val_loss: 0.0760 - val_accuracy: 0.9817\n",
      "Epoch 40/50\n",
      "18/18 [==============================] - 221s 12s/step - loss: 0.2956 - accuracy: 0.8958 - val_loss: 0.0774 - val_accuracy: 0.9268\n",
      "Epoch 41/50\n",
      "18/18 [==============================] - 229s 13s/step - loss: 0.2524 - accuracy: 0.9113 - val_loss: 0.0834 - val_accuracy: 0.9573\n",
      "Epoch 42/50\n",
      "18/18 [==============================] - 217s 12s/step - loss: 0.2517 - accuracy: 0.9184 - val_loss: 0.2446 - val_accuracy: 0.9390\n",
      "Epoch 43/50\n",
      "18/18 [==============================] - 215s 12s/step - loss: 0.2258 - accuracy: 0.9094 - val_loss: 0.0688 - val_accuracy: 0.9479\n",
      "Epoch 44/50\n",
      "18/18 [==============================] - 215s 12s/step - loss: 0.2083 - accuracy: 0.9458 - val_loss: 0.0555 - val_accuracy: 0.9451\n",
      "Epoch 45/50\n",
      "18/18 [==============================] - 215s 12s/step - loss: 0.2368 - accuracy: 0.9167 - val_loss: 0.1775 - val_accuracy: 0.9512\n",
      "Epoch 46/50\n",
      "18/18 [==============================] - 197s 11s/step - loss: 0.2045 - accuracy: 0.9377 - val_loss: 0.1065 - val_accuracy: 0.9573\n",
      "Epoch 47/50\n",
      "18/18 [==============================] - 209s 12s/step - loss: 0.2182 - accuracy: 0.9331 - val_loss: 0.1066 - val_accuracy: 0.9573\n",
      "Epoch 48/50\n",
      "18/18 [==============================] - 203s 11s/step - loss: 0.2260 - accuracy: 0.9184 - val_loss: 0.1569 - val_accuracy: 0.9329\n",
      "Epoch 49/50\n",
      "18/18 [==============================] - 219s 12s/step - loss: 0.1959 - accuracy: 0.9349 - val_loss: 0.0452 - val_accuracy: 0.9512\n",
      "Epoch 50/50\n",
      "18/18 [==============================] - 229s 13s/step - loss: 0.2174 - accuracy: 0.9321 - val_loss: 0.0918 - val_accuracy: 0.9479\n",
      "[INFO] training complete.\n"
     ]
    }
   ],
   "source": [
    "# compile our model (this needs to be done after our setting our\n",
    "# layers to being non-trainable)\n",
    "print(\"[INFO] compiling model...\")\n",
    "opt = SGD(lr=1e-4, momentum=0.9, decay=1e-4 / 50)\n",
    "model.compile(loss=\"categorical_crossentropy\", optimizer=opt,\n",
    "    metrics=[\"accuracy\"])\n",
    "\n",
    "# train the head of the network for a few epochs (all other layers\n",
    "# are frozen) -- this will allow the new FC layers to start to become\n",
    "# initialized with actual \"learned\" values versus pure random\n",
    "print(\"[INFO] training head...\")\n",
    "H = model.fit_generator(\n",
    "    trainAug.flow(trainX, trainY, batch_size=32),\n",
    "    steps_per_epoch=len(trainX) // 32,\n",
    "    validation_data=valAug.flow(testX, testY),\n",
    "    validation_steps=len(testX) // 32,\n",
    "    epochs= 50)\n",
    "print(\"[INFO] training complete.\")"
   ]
  },
  {
   "cell_type": "markdown",
   "metadata": {},
   "source": [
    "## Model Evaluate"
   ]
  },
  {
   "cell_type": "code",
   "execution_count": 7,
   "metadata": {},
   "outputs": [
    {
     "name": "stdout",
     "output_type": "stream",
     "text": [
      "[INFO] evaluating network...\n",
      "                precision    recall  f1-score   support\n",
      "\n",
      "         Arson       0.95      0.98      0.96        54\n",
      "Common_Assault       0.93      0.93      0.93        58\n",
      "        Weapon       0.96      0.94      0.95        84\n",
      "\n",
      "   avg / total       0.95      0.95      0.95       196\n",
      "\n"
     ]
    }
   ],
   "source": [
    "# evaluate the network\n",
    "print(\"[INFO] evaluating network...\")\n",
    "predictions = model.predict(testX, batch_size=32)\n",
    "print(classification_report(testY.argmax(axis=1),\n",
    "    predictions.argmax(axis=1), target_names=lb.classes_))"
   ]
  },
  {
   "cell_type": "markdown",
   "metadata": {},
   "source": [
    "## Model Train Loss and Accuracy Plot"
   ]
  },
  {
   "cell_type": "code",
   "execution_count": 8,
   "metadata": {},
   "outputs": [],
   "source": [
    "# plot the training loss and accuracy\n",
    "N = 50 \n",
    "plt.style.use(\"ggplot\")\n",
    "plt.figure()\n",
    "plt.plot(np.arange(0, N), H.history[\"loss\"], label=\"train_loss\")\n",
    "plt.plot(np.arange(0, N), H.history[\"val_loss\"], label=\"val_loss\")\n",
    "plt.plot(np.arange(0, N), H.history[\"accuracy\"], label=\"train_acc\")\n",
    "plt.plot(np.arange(0, N), H.history[\"val_accuracy\"], label=\"val_acc\")\n",
    "plt.title(\"Training Loss and Accuracy on Dataset\")\n",
    "plt.xlabel(\"Epoch #\")\n",
    "plt.ylabel(\"Loss/Accuracy\")\n",
    "plt.legend(loc=\"lower left\")\n",
    "plt.savefig(\"Cplot.png\") "
   ]
  },
  {
   "cell_type": "markdown",
   "metadata": {},
   "source": [
    "## Model Save "
   ]
  },
  {
   "cell_type": "code",
   "execution_count": 10,
   "metadata": {},
   "outputs": [
    {
     "name": "stdout",
     "output_type": "stream",
     "text": [
      "[INFO] serializing network...\n"
     ]
    }
   ],
   "source": [
    "# serialize the model to disk\n",
    "print(\"[INFO] serializing network...\")\n",
    "model.save('CrimeActivity.model')\n",
    "\n",
    "# serialize the label binarizer to disk\n",
    "f = open('lb.Cpickle', \"wb\")\n",
    "f.write(pickle.dumps(lb))\n",
    "f.close()"
   ]
  }
 ],
 "metadata": {
  "hide_input": false,
  "kernelspec": {
   "display_name": "Python 3",
   "language": "python",
   "name": "python3"
  },
  "language_info": {
   "codemirror_mode": {
    "name": "ipython",
    "version": 3
   },
   "file_extension": ".py",
   "mimetype": "text/x-python",
   "name": "python",
   "nbconvert_exporter": "python",
   "pygments_lexer": "ipython3",
   "version": "3.8.3"
  },
  "latex_envs": {
   "LaTeX_envs_menu_present": true,
   "autoclose": false,
   "autocomplete": true,
   "bibliofile": "biblio.bib",
   "cite_by": "apalike",
   "current_citInitial": 1,
   "eqLabelWithNumbers": true,
   "eqNumInitial": 1,
   "hotkeys": {
    "equation": "Ctrl-E",
    "itemize": "Ctrl-I"
   },
   "labels_anchors": false,
   "latex_user_defs": false,
   "report_style_numbering": false,
   "user_envs_cfg": false
  },
  "toc": {
   "base_numbering": 1,
   "nav_menu": {},
   "number_sections": true,
   "sideBar": true,
   "skip_h1_title": false,
   "title_cell": "Table of Contents",
   "title_sidebar": "Contents",
   "toc_cell": true,
   "toc_position": {},
   "toc_section_display": true,
   "toc_window_display": false
  }
 },
 "nbformat": 4,
 "nbformat_minor": 2
}
