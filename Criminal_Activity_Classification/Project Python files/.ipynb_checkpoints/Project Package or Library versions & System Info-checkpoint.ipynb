{
 "cells": [
  {
   "cell_type": "markdown",
   "metadata": {
    "toc": true
   },
   "source": [
    "<h1>Table of Contents<span class=\"tocSkip\"></span></h1>\n",
    "<div class=\"toc\"><ul class=\"toc-item\"><li><span><a href=\"#Library,-Framework,-Application,-Tools,-Module,-Packages\" data-toc-modified-id=\"Library,-Framework,-Application,-Tools,-Module,-Packages-1\"><span class=\"toc-item-num\">1&nbsp;&nbsp;</span>Library, Framework, Application, Tools, Module, Packages</a></span></li><li><span><a href=\"#Project-libraries\" data-toc-modified-id=\"Project-libraries-2\"><span class=\"toc-item-num\">2&nbsp;&nbsp;</span>Project libraries</a></span></li><li><span><a href=\"#System-Information\" data-toc-modified-id=\"System-Information-3\"><span class=\"toc-item-num\">3&nbsp;&nbsp;</span>System Information</a></span></li><li><span><a href=\"#Python-Information\" data-toc-modified-id=\"Python-Information-4\"><span class=\"toc-item-num\">4&nbsp;&nbsp;</span>Python Information</a></span></li><li><span><a href=\"#Package/Library-information\" data-toc-modified-id=\"Package/Library-information-5\"><span class=\"toc-item-num\">5&nbsp;&nbsp;</span>Package/Library information</a></span><ul class=\"toc-item\"><li><span><a href=\"#Pandas\" data-toc-modified-id=\"Pandas-5.1\"><span class=\"toc-item-num\">5.1&nbsp;&nbsp;</span>Pandas</a></span></li><li><span><a href=\"#Numpy\" data-toc-modified-id=\"Numpy-5.2\"><span class=\"toc-item-num\">5.2&nbsp;&nbsp;</span>Numpy</a></span></li><li><span><a href=\"#OpenCv-(cv2)\" data-toc-modified-id=\"OpenCv-(cv2)-5.3\"><span class=\"toc-item-num\">5.3&nbsp;&nbsp;</span>OpenCv (cv2)</a></span></li><li><span><a href=\"#Matplotlib\" data-toc-modified-id=\"Matplotlib-5.4\"><span class=\"toc-item-num\">5.4&nbsp;&nbsp;</span>Matplotlib</a></span></li><li><span><a href=\"#Playsound\" data-toc-modified-id=\"Playsound-5.5\"><span class=\"toc-item-num\">5.5&nbsp;&nbsp;</span>Playsound</a></span></li><li><span><a href=\"#Imutils\" data-toc-modified-id=\"Imutils-5.6\"><span class=\"toc-item-num\">5.6&nbsp;&nbsp;</span>Imutils</a></span></li><li><span><a href=\"#Pickle\" data-toc-modified-id=\"Pickle-5.7\"><span class=\"toc-item-num\">5.7&nbsp;&nbsp;</span>Pickle</a></span></li><li><span><a href=\"#Requests\" data-toc-modified-id=\"Requests-5.8\"><span class=\"toc-item-num\">5.8&nbsp;&nbsp;</span>Requests</a></span></li><li><span><a href=\"#Glob\" data-toc-modified-id=\"Glob-5.9\"><span class=\"toc-item-num\">5.9&nbsp;&nbsp;</span>Glob</a></span></li><li><span><a href=\"#H5py\" data-toc-modified-id=\"H5py-5.10\"><span class=\"toc-item-num\">5.10&nbsp;&nbsp;</span>H5py</a></span></li><li><span><a href=\"#Keras\" data-toc-modified-id=\"Keras-5.11\"><span class=\"toc-item-num\">5.11&nbsp;&nbsp;</span>Keras</a></span></li><li><span><a href=\"#Tensorflow\" data-toc-modified-id=\"Tensorflow-5.12\"><span class=\"toc-item-num\">5.12&nbsp;&nbsp;</span>Tensorflow</a></span></li><li><span><a href=\"#Sklearn\" data-toc-modified-id=\"Sklearn-5.13\"><span class=\"toc-item-num\">5.13&nbsp;&nbsp;</span>Sklearn</a></span></li></ul></li><li><span><a href=\"#Cv2-version\" data-toc-modified-id=\"Cv2-version-6\"><span class=\"toc-item-num\">6&nbsp;&nbsp;</span>Cv2 version</a></span></li></ul></div>"
   ]
  },
  {
   "cell_type": "markdown",
   "metadata": {},
   "source": [
    "## Library, Framework, Application, Tools, Module, Packages"
   ]
  },
  {
   "cell_type": "markdown",
   "metadata": {},
   "source": [
    "<b>Module</b><br>\n",
    "Module is a file which contains various python functions and global variables. It is simply just .py extension file which has python executable code<br><br>\n",
    "<b>Packages</b><br>\n",
    "Package is a collection of modules. It must contain an __init__.py file as a flag so that the python interpreter processes it as such. The __init__.py could be an empty file without causing issues.<br><br>\n",
    "<b>Library</b><br>\n",
    "Library is a collection of packages<br><br>\n",
    "<b>Framework</b><br>\n",
    "Collection of libraries reference the program architecture<br><br>\n",
    "<b>Application</b><br>\n",
    "Program or piece of software designed to fulfill a particular purpose.<br><br>\n",
    "<b>Tools</b><br>\n",
    "Tools are set of basic components and accessories to help creating programs in a more efficient manner"
   ]
  },
  {
   "cell_type": "markdown",
   "metadata": {},
   "source": [
    "## Project libraries "
   ]
  },
  {
   "cell_type": "code",
   "execution_count": 2,
   "metadata": {
    "ExecuteTime": {
     "end_time": "2020-09-09T01:28:30.218530Z",
     "start_time": "2020-09-09T01:28:30.212546Z"
    }
   },
   "outputs": [],
   "source": [
    "from keras.applications import imagenet_utils\n",
    "from keras.models import load_model\n",
    "from keras.preprocessing.image import ImageDataGenerator\n",
    "from keras.preprocessing.image import ImageDataGenerator, array_to_img, img_to_array, load_img\n",
    "from keras.preprocessing.image import ImageDataGenerator\n",
    "from keras.layers.pooling import AveragePooling2D\n",
    "from keras.applications import ResNet50\n",
    "from keras.layers.core import Dropout\n",
    "from keras.layers.core import Flatten\n",
    "from keras.layers.core import Dense\n",
    "from keras.layers import Input\n",
    "from keras.models import Model\n",
    "from keras.optimizers import SGD\n",
    "from sklearn.preprocessing import LabelBinarizer\n",
    "from sklearn.model_selection import train_test_split\n",
    "from sklearn.metrics import classification_report\n",
    "from collections import deque\n",
    "from playsound import playsound\n",
    "from imutils import paths\n",
    "import glob\n",
    "import argparse\n",
    "import imutils\n",
    "import requests\n",
    "import cv2\n",
    "import numpy as np\n",
    "import pandas as pd\n",
    "import matplotlib\n",
    "import matplotlib.pyplot as plt\n",
    "import pickle\n",
    "import os\n",
    "import sys\n",
    "import platform"
   ]
  },
  {
   "cell_type": "markdown",
   "metadata": {},
   "source": [
    "## System Information"
   ]
  },
  {
   "cell_type": "code",
   "execution_count": 3,
   "metadata": {
    "ExecuteTime": {
     "end_time": "2020-09-09T01:28:37.795537Z",
     "start_time": "2020-09-09T01:28:37.791507Z"
    }
   },
   "outputs": [
    {
     "name": "stdout",
     "output_type": "stream",
     "text": [
      "System Information: \n",
      "System: Windows\n",
      "Architecture: ('64bit', 'WindowsPE')\n",
      "Machine: AMD64\n",
      "Processor: Intel64 Family 6 Model 142 Stepping 10, GenuineIntel\n",
      "Release: 10\n",
      "Platform: Windows-10-10.0.18362-SP0\n"
     ]
    }
   ],
   "source": [
    "print(\"System Information: \")\n",
    "print(\"System:\",platform.system()) \n",
    "print(\"Architecture:\",platform.architecture())  \n",
    "print(\"Machine:\",platform.machine()) \n",
    "print(\"Processor:\",platform.processor()) \n",
    "print(\"Release:\",platform.release())\n",
    "print(\"Platform:\",platform.platform())"
   ]
  },
  {
   "cell_type": "markdown",
   "metadata": {},
   "source": [
    "## Python Information "
   ]
  },
  {
   "cell_type": "code",
   "execution_count": 4,
   "metadata": {
    "ExecuteTime": {
     "end_time": "2020-09-09T01:28:42.882031Z",
     "start_time": "2020-09-09T01:28:42.878041Z"
    }
   },
   "outputs": [
    {
     "name": "stdout",
     "output_type": "stream",
     "text": [
      "3.6.5 |Anaconda, Inc.| (default, Mar 29 2018, 13:32:41) [MSC v.1900 64 bit (AMD64)]\n"
     ]
    }
   ],
   "source": [
    "print(sys.version)"
   ]
  },
  {
   "cell_type": "markdown",
   "metadata": {},
   "source": [
    "## Package/Library information"
   ]
  },
  {
   "cell_type": "markdown",
   "metadata": {},
   "source": [
    "### Pandas "
   ]
  },
  {
   "cell_type": "code",
   "execution_count": 5,
   "metadata": {
    "ExecuteTime": {
     "end_time": "2020-09-09T01:28:50.305445Z",
     "start_time": "2020-09-09T01:28:48.546601Z"
    }
   },
   "outputs": [
    {
     "name": "stdout",
     "output_type": "stream",
     "text": [
      "Name: pandas\n",
      "Version: 0.23.0\n",
      "Summary: Powerful data structures for data analysis, time series, and statistics\n",
      "Home-page: http://pandas.pydata.org\n",
      "Author: None\n",
      "Author-email: None\n",
      "License: BSD\n",
      "Location: c:\\users\\student\\anaconda3\\lib\\site-packages\n",
      "Requires: pytz, python-dateutil, numpy\n",
      "Required-by: seaborn, qgrid, pandas-profiling, odo\n"
     ]
    }
   ],
   "source": [
    "!pip show pandas"
   ]
  },
  {
   "cell_type": "markdown",
   "metadata": {},
   "source": [
    "### Numpy "
   ]
  },
  {
   "cell_type": "code",
   "execution_count": 6,
   "metadata": {
    "ExecuteTime": {
     "end_time": "2020-09-09T01:28:56.946033Z",
     "start_time": "2020-09-09T01:28:55.283444Z"
    }
   },
   "outputs": [
    {
     "name": "stdout",
     "output_type": "stream",
     "text": [
      "Name: numpy\n",
      "Version: 1.17.2\n",
      "Summary: NumPy is the fundamental package for array computing with Python.\n",
      "Home-page: https://www.numpy.org\n",
      "Author: Travis E. Oliphant et al.\n",
      "Author-email: None\n",
      "License: BSD\n",
      "Location: c:\\users\\student\\appdata\\roaming\\python\\python36\\site-packages\n",
      "Requires: \n",
      "Required-by: tensorflow, tensorboard, Keras-Preprocessing, Keras-Applications, h5py, wordcloud, tables, seaborn, PyWavelets, pytest-doctestplus, pytest-arraydiff, patsy, pandas, opencv-python-headless, opencv-contrib-python, odo, numexpr, numba, mkl-random, mkl-fft, missingno, matplotlib, Keras, imgaug, gensim, datashape, Bottleneck, bokeh, bkcharts, astropy, albumentations\n"
     ]
    }
   ],
   "source": [
    "!pip show numpy"
   ]
  },
  {
   "cell_type": "markdown",
   "metadata": {},
   "source": [
    "### OpenCv (cv2)"
   ]
  },
  {
   "cell_type": "code",
   "execution_count": 7,
   "metadata": {
    "ExecuteTime": {
     "end_time": "2020-09-09T01:29:03.564770Z",
     "start_time": "2020-09-09T01:29:01.954673Z"
    }
   },
   "outputs": [
    {
     "name": "stdout",
     "output_type": "stream",
     "text": [
      "Name: opencv-contrib-python\n",
      "Version: 4.1.1.26\n",
      "Summary: Wrapper package for OpenCV python bindings.\n",
      "Home-page: https://github.com/skvark/opencv-python\n",
      "Author: None\n",
      "Author-email: None\n",
      "License: MIT\n",
      "Location: c:\\users\\student\\anaconda3\\lib\\site-packages\n",
      "Requires: numpy\n",
      "Required-by: \n"
     ]
    }
   ],
   "source": [
    "!pip show opencv-contrib-python"
   ]
  },
  {
   "cell_type": "code",
   "execution_count": 8,
   "metadata": {
    "ExecuteTime": {
     "end_time": "2020-09-09T01:29:08.958136Z",
     "start_time": "2020-09-09T01:29:07.380749Z"
    }
   },
   "outputs": [
    {
     "name": "stdout",
     "output_type": "stream",
     "text": [
      "Name: opencv-python-headless\n",
      "Version: 4.1.1.26\n",
      "Summary: Wrapper package for OpenCV python bindings.\n",
      "Home-page: https://github.com/skvark/opencv-python\n",
      "Author: None\n",
      "Author-email: None\n",
      "License: MIT\n",
      "Location: c:\\users\\student\\anaconda3\\lib\\site-packages\n",
      "Requires: numpy\n",
      "Required-by: albumentations\n"
     ]
    }
   ],
   "source": [
    "!pip show opencv-python-headless"
   ]
  },
  {
   "cell_type": "markdown",
   "metadata": {},
   "source": [
    "### Matplotlib"
   ]
  },
  {
   "cell_type": "code",
   "execution_count": 9,
   "metadata": {
    "ExecuteTime": {
     "end_time": "2020-09-09T01:29:14.511681Z",
     "start_time": "2020-09-09T01:29:12.898252Z"
    }
   },
   "outputs": [
    {
     "name": "stdout",
     "output_type": "stream",
     "text": [
      "Name: matplotlib\n",
      "Version: 2.2.2\n",
      "Summary: Python plotting package\n",
      "Home-page: http://matplotlib.org\n",
      "Author: John D. Hunter, Michael Droettboom\n",
      "Author-email: matplotlib-users@python.org\n",
      "License: BSD\n",
      "Location: c:\\users\\student\\anaconda3\\lib\\site-packages\n",
      "Requires: numpy, cycler, pyparsing, python-dateutil, pytz, six, kiwisolver\n",
      "Required-by: seaborn, scikit-image, pandas-profiling, missingno, jupyterthemes\n"
     ]
    }
   ],
   "source": [
    "!pip show matplotlib"
   ]
  },
  {
   "cell_type": "markdown",
   "metadata": {},
   "source": [
    "### Playsound"
   ]
  },
  {
   "cell_type": "code",
   "execution_count": 10,
   "metadata": {
    "ExecuteTime": {
     "end_time": "2020-09-09T01:29:20.229209Z",
     "start_time": "2020-09-09T01:29:18.629134Z"
    }
   },
   "outputs": [
    {
     "name": "stdout",
     "output_type": "stream",
     "text": [
      "Name: playsound\n",
      "Version: 1.2.2\n",
      "Summary: Pure Python, cross platform, single function module with no dependencies for playing sounds.\n",
      "Home-page: https://github.com/TaylorSMarks/playsound\n",
      "Author: Taylor Marks\n",
      "Author-email: taylor@marksfam.com\n",
      "License: MIT\n",
      "Location: c:\\users\\student\\anaconda3\\lib\\site-packages\n",
      "Requires: \n",
      "Required-by: \n"
     ]
    }
   ],
   "source": [
    "!pip show playsound"
   ]
  },
  {
   "cell_type": "markdown",
   "metadata": {},
   "source": [
    "### Imutils"
   ]
  },
  {
   "cell_type": "code",
   "execution_count": 11,
   "metadata": {
    "ExecuteTime": {
     "end_time": "2020-09-09T01:29:26.776111Z",
     "start_time": "2020-09-09T01:29:25.139148Z"
    }
   },
   "outputs": [
    {
     "name": "stdout",
     "output_type": "stream",
     "text": [
      "Name: imutils\n",
      "Version: 0.5.3\n",
      "Summary: A series of convenience functions to make basic image processing functions such as translation, rotation, resizing, skeletonization, displaying Matplotlib images, sorting contours, detecting edges, and much more easier with OpenCV and both Python 2.7 and Python 3.\n",
      "Home-page: https://github.com/jrosebr1/imutils\n",
      "Author: Adrian Rosebrock\n",
      "Author-email: adrian@pyimagesearch.com\n",
      "License: UNKNOWN\n",
      "Location: c:\\users\\student\\anaconda3\\lib\\site-packages\n",
      "Requires: \n",
      "Required-by: \n"
     ]
    }
   ],
   "source": [
    "!pip show imutils"
   ]
  },
  {
   "cell_type": "markdown",
   "metadata": {},
   "source": [
    "### Pickle"
   ]
  },
  {
   "cell_type": "code",
   "execution_count": 12,
   "metadata": {
    "ExecuteTime": {
     "end_time": "2020-09-09T01:29:34.400947Z",
     "start_time": "2020-09-09T01:29:32.767778Z"
    }
   },
   "outputs": [
    {
     "name": "stdout",
     "output_type": "stream",
     "text": [
      "Name: pickle-mixin\n",
      "Version: 1.0.2\n",
      "Summary: Makes un-pickle-able objects pick-able.\n",
      "Home-page: https://github.com/limix/pickle-mixin\n",
      "Author: None\n",
      "Author-email: None\n",
      "License: MIT\n",
      "Location: c:\\users\\student\\anaconda3\\lib\\site-packages\n",
      "Requires: \n",
      "Required-by: \n"
     ]
    }
   ],
   "source": [
    "!pip show pickle-mixin"
   ]
  },
  {
   "cell_type": "code",
   "execution_count": 13,
   "metadata": {
    "ExecuteTime": {
     "end_time": "2020-09-09T01:29:40.640295Z",
     "start_time": "2020-09-09T01:29:39.057245Z"
    }
   },
   "outputs": [
    {
     "name": "stdout",
     "output_type": "stream",
     "text": [
      "Name: pickleshare\n",
      "Version: 0.7.4\n",
      "Summary: Tiny 'shelve'-like database with concurrency support\n",
      "Home-page: https://github.com/pickleshare/pickleshare\n",
      "Author: Ville Vainio\n",
      "Author-email: vivainio@gmail.com\n",
      "License: MIT\n",
      "Location: c:\\users\\student\\anaconda3\\lib\\site-packages\n",
      "Requires: \n",
      "Required-by: ipython\n"
     ]
    }
   ],
   "source": [
    "!pip show pickleshare"
   ]
  },
  {
   "cell_type": "markdown",
   "metadata": {},
   "source": [
    "### Requests"
   ]
  },
  {
   "cell_type": "code",
   "execution_count": 14,
   "metadata": {
    "ExecuteTime": {
     "end_time": "2020-09-09T01:29:48.804078Z",
     "start_time": "2020-09-09T01:29:47.185242Z"
    }
   },
   "outputs": [
    {
     "name": "stdout",
     "output_type": "stream",
     "text": [
      "Name: requests\n",
      "Version: 2.23.0\n",
      "Summary: Python HTTP for Humans.\n",
      "Home-page: https://requests.readthedocs.io\n",
      "Author: Kenneth Reitz\n",
      "Author-email: me@kennethreitz.org\n",
      "License: Apache 2.0\n",
      "Location: c:\\users\\student\\anaconda3\\lib\\site-packages\n",
      "Requires: certifi, chardet, idna, urllib3\n",
      "Required-by: webdriver-manager, tweepy, Sphinx, smart-open, requests-oauthlib, gTTS, gTTS-token, covid, conda, conda-build, anaconda-project, anaconda-client\n"
     ]
    }
   ],
   "source": [
    "!pip show requests"
   ]
  },
  {
   "cell_type": "markdown",
   "metadata": {},
   "source": [
    "### Glob"
   ]
  },
  {
   "cell_type": "code",
   "execution_count": 15,
   "metadata": {
    "ExecuteTime": {
     "end_time": "2020-09-09T01:29:54.375920Z",
     "start_time": "2020-09-09T01:29:52.786895Z"
    }
   },
   "outputs": [
    {
     "name": "stdout",
     "output_type": "stream",
     "text": [
      "Name: glob2\n",
      "Version: 0.6\n",
      "Summary: Version of the glob module that can capture patterns and supports recursive wildcards\n",
      "Home-page: http://github.com/miracle2k/python-glob2/\n",
      "Author: Michael Elsdoerfer\n",
      "Author-email: michael@elsdoerfer.com\n",
      "License: BSD\n",
      "Location: c:\\users\\student\\anaconda3\\lib\\site-packages\n",
      "Requires: \n",
      "Required-by: conda-build\n"
     ]
    }
   ],
   "source": [
    "!pip show glob2"
   ]
  },
  {
   "cell_type": "markdown",
   "metadata": {},
   "source": [
    "### H5py"
   ]
  },
  {
   "cell_type": "code",
   "execution_count": 16,
   "metadata": {
    "ExecuteTime": {
     "end_time": "2020-09-09T01:30:00.191574Z",
     "start_time": "2020-09-09T01:29:58.598748Z"
    }
   },
   "outputs": [
    {
     "name": "stdout",
     "output_type": "stream",
     "text": [
      "Name: h5py\n",
      "Version: 2.10.0\n",
      "Summary: Read and write HDF5 files from Python\n",
      "Home-page: http://www.h5py.org\n",
      "Author: Andrew Collette\n",
      "Author-email: andrew.collette@gmail.com\n",
      "License: BSD\n",
      "Location: c:\\users\\student\\appdata\\roaming\\python\\python36\\site-packages\n",
      "Requires: six, numpy\n",
      "Required-by: Keras-Applications, Keras\n"
     ]
    }
   ],
   "source": [
    "!pip show h5py"
   ]
  },
  {
   "cell_type": "markdown",
   "metadata": {},
   "source": [
    "### Keras"
   ]
  },
  {
   "cell_type": "code",
   "execution_count": 17,
   "metadata": {
    "ExecuteTime": {
     "end_time": "2020-09-09T01:30:05.566341Z",
     "start_time": "2020-09-09T01:30:03.965394Z"
    }
   },
   "outputs": [
    {
     "name": "stdout",
     "output_type": "stream",
     "text": [
      "Name: Keras\n",
      "Version: 2.3.0\n",
      "Summary: Deep Learning for humans\n",
      "Home-page: https://github.com/keras-team/keras\n",
      "Author: Francois Chollet\n",
      "Author-email: francois.chollet@gmail.com\n",
      "License: MIT\n",
      "Location: c:\\users\\student\\anaconda3\\lib\\site-packages\n",
      "Requires: keras-applications, scipy, keras-preprocessing, six, pyyaml, numpy, h5py\n",
      "Required-by: \n"
     ]
    }
   ],
   "source": [
    "!pip show keras"
   ]
  },
  {
   "cell_type": "code",
   "execution_count": 18,
   "metadata": {
    "ExecuteTime": {
     "end_time": "2020-09-09T01:30:11.085154Z",
     "start_time": "2020-09-09T01:30:09.535929Z"
    }
   },
   "outputs": [
    {
     "name": "stdout",
     "output_type": "stream",
     "text": [
      "Name: Keras-Applications\n",
      "Version: 1.0.8\n",
      "Summary: Reference implementations of popular deep learning models\n",
      "Home-page: https://github.com/keras-team/keras-applications\n",
      "Author: Keras Team\n",
      "Author-email: None\n",
      "License: MIT\n",
      "Location: c:\\users\\student\\appdata\\roaming\\python\\python36\\site-packages\n",
      "Requires: numpy, h5py\n",
      "Required-by: tensorflow, Keras\n"
     ]
    }
   ],
   "source": [
    "!pip show keras-applications"
   ]
  },
  {
   "cell_type": "markdown",
   "metadata": {},
   "source": [
    "### Tensorflow"
   ]
  },
  {
   "cell_type": "code",
   "execution_count": 19,
   "metadata": {
    "ExecuteTime": {
     "end_time": "2020-09-09T01:30:16.777751Z",
     "start_time": "2020-09-09T01:30:15.170974Z"
    }
   },
   "outputs": [
    {
     "name": "stdout",
     "output_type": "stream",
     "text": [
      "Name: Keras-Preprocessing\n",
      "Version: 1.1.0\n",
      "Summary: Easy data preprocessing and data augmentation for deep learning models\n",
      "Home-page: https://github.com/keras-team/keras-preprocessing\n",
      "Author: Keras Team\n",
      "Author-email: None\n",
      "License: MIT\n",
      "Location: c:\\users\\student\\appdata\\roaming\\python\\python36\\site-packages\n",
      "Requires: numpy, six\n",
      "Required-by: tensorflow, Keras\n"
     ]
    }
   ],
   "source": [
    "!pip show keras-preprocessing"
   ]
  },
  {
   "cell_type": "code",
   "execution_count": 20,
   "metadata": {
    "ExecuteTime": {
     "end_time": "2020-09-09T01:30:23.030040Z",
     "start_time": "2020-09-09T01:30:20.982351Z"
    }
   },
   "outputs": [
    {
     "name": "stdout",
     "output_type": "stream",
     "text": [
      "Name: tensorflow\n",
      "Version: 1.14.0\n",
      "Summary: TensorFlow is an open source machine learning framework for everyone.\n",
      "Home-page: https://www.tensorflow.org/\n",
      "Author: Google Inc.\n",
      "Author-email: packages@tensorflow.org\n",
      "License: Apache 2.0\n",
      "Location: c:\\users\\student\\appdata\\roaming\\python\\python36\\site-packages\n",
      "Requires: gast, numpy, grpcio, keras-preprocessing, tensorboard, termcolor, wrapt, wheel, keras-applications, google-pasta, tensorflow-estimator, six, absl-py, astor, protobuf\n",
      "Required-by: squeezenet\n"
     ]
    }
   ],
   "source": [
    "!pip show tensorflow"
   ]
  },
  {
   "cell_type": "markdown",
   "metadata": {},
   "source": [
    "### Sklearn"
   ]
  },
  {
   "cell_type": "code",
   "execution_count": 21,
   "metadata": {
    "ExecuteTime": {
     "end_time": "2020-09-09T01:30:28.603574Z",
     "start_time": "2020-09-09T01:30:27.020634Z"
    }
   },
   "outputs": [
    {
     "name": "stdout",
     "output_type": "stream",
     "text": [
      "Name: sklearn\n",
      "Version: 0.0\n",
      "Summary: A set of python modules for machine learning and data mining\n",
      "Home-page: https://pypi.python.org/pypi/scikit-learn/\n",
      "Author: UNKNOWN\n",
      "Author-email: UNKNOWN\n",
      "License: None\n",
      "Location: c:\\users\\student\\anaconda3\\lib\\site-packages\n",
      "Requires: scikit-learn\n",
      "Required-by: \n"
     ]
    }
   ],
   "source": [
    "!pip show sklearn"
   ]
  },
  {
   "cell_type": "markdown",
   "metadata": {},
   "source": [
    "## Cv2 version "
   ]
  },
  {
   "cell_type": "code",
   "execution_count": 22,
   "metadata": {
    "ExecuteTime": {
     "end_time": "2020-09-09T01:30:33.382571Z",
     "start_time": "2020-09-09T01:30:33.377584Z"
    }
   },
   "outputs": [
    {
     "data": {
      "text/plain": [
       "'4.1.1'"
      ]
     },
     "execution_count": 22,
     "metadata": {},
     "output_type": "execute_result"
    }
   ],
   "source": [
    "cv2.__version__"
   ]
  }
 ],
 "metadata": {
  "kernelspec": {
   "display_name": "Python 3",
   "language": "python",
   "name": "python3"
  },
  "language_info": {
   "codemirror_mode": {
    "name": "ipython",
    "version": 3
   },
   "file_extension": ".py",
   "mimetype": "text/x-python",
   "name": "python",
   "nbconvert_exporter": "python",
   "pygments_lexer": "ipython3",
   "version": "3.6.5"
  },
  "latex_envs": {
   "LaTeX_envs_menu_present": true,
   "autoclose": false,
   "autocomplete": true,
   "bibliofile": "biblio.bib",
   "cite_by": "apalike",
   "current_citInitial": 1,
   "eqLabelWithNumbers": true,
   "eqNumInitial": 1,
   "hotkeys": {
    "equation": "Ctrl-E",
    "itemize": "Ctrl-I"
   },
   "labels_anchors": false,
   "latex_user_defs": false,
   "report_style_numbering": false,
   "user_envs_cfg": false
  },
  "toc": {
   "base_numbering": 1,
   "nav_menu": {},
   "number_sections": true,
   "sideBar": true,
   "skip_h1_title": false,
   "title_cell": "Table of Contents",
   "title_sidebar": "Contents",
   "toc_cell": true,
   "toc_position": {},
   "toc_section_display": true,
   "toc_window_display": false
  }
 },
 "nbformat": 4,
 "nbformat_minor": 2
}
