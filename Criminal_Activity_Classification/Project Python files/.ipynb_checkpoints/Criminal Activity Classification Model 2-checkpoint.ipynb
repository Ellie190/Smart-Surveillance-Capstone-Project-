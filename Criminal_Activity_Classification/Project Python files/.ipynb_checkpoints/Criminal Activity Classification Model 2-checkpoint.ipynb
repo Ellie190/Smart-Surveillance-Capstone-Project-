{
 "cells": [
  {
   "cell_type": "markdown",
   "metadata": {
    "toc": true
   },
   "source": [
    "<h1>Table of Contents<span class=\"tocSkip\"></span></h1>\n",
    "<div class=\"toc\"><ul class=\"toc-item\"><li><span><a href=\"#Criminal-Activity-Classification-Model-2\" data-toc-modified-id=\"Criminal-Activity-Classification-Model-2-1\"><span class=\"toc-item-num\">1&nbsp;&nbsp;</span>Criminal Activity Classification Model 2</a></span><ul class=\"toc-item\"><li><span><a href=\"#Libraries\" data-toc-modified-id=\"Libraries-1.1\"><span class=\"toc-item-num\">1.1&nbsp;&nbsp;</span>Libraries</a></span></li><li><span><a href=\"#Data-Reading\" data-toc-modified-id=\"Data-Reading-1.2\"><span class=\"toc-item-num\">1.2&nbsp;&nbsp;</span>Data Reading</a></span></li><li><span><a href=\"#Data-Encoding\" data-toc-modified-id=\"Data-Encoding-1.3\"><span class=\"toc-item-num\">1.3&nbsp;&nbsp;</span>Data Encoding</a></span></li><li><span><a href=\"#Data-Augmentation\" data-toc-modified-id=\"Data-Augmentation-1.4\"><span class=\"toc-item-num\">1.4&nbsp;&nbsp;</span>Data Augmentation</a></span></li><li><span><a href=\"#Transfer-Learning-via-Fine-tuning-(Model-Define)\" data-toc-modified-id=\"Transfer-Learning-via-Fine-tuning-(Model-Define)-1.5\"><span class=\"toc-item-num\">1.5&nbsp;&nbsp;</span>Transfer Learning via Fine-tuning (Model Define)</a></span></li><li><span><a href=\"#Model-Compile-and-Fit\" data-toc-modified-id=\"Model-Compile-and-Fit-1.6\"><span class=\"toc-item-num\">1.6&nbsp;&nbsp;</span>Model Compile and Fit</a></span></li><li><span><a href=\"#Model-Evaluate\" data-toc-modified-id=\"Model-Evaluate-1.7\"><span class=\"toc-item-num\">1.7&nbsp;&nbsp;</span>Model Evaluate</a></span></li><li><span><a href=\"#Model-Train-Loss-and-Accuracy-Plot\" data-toc-modified-id=\"Model-Train-Loss-and-Accuracy-Plot-1.8\"><span class=\"toc-item-num\">1.8&nbsp;&nbsp;</span>Model Train Loss and Accuracy Plot</a></span></li><li><span><a href=\"#Model-Save\" data-toc-modified-id=\"Model-Save-1.9\"><span class=\"toc-item-num\">1.9&nbsp;&nbsp;</span>Model Save</a></span></li></ul></li></ul></div>"
   ]
  },
  {
   "cell_type": "markdown",
   "metadata": {},
   "source": [
    "# Criminal Activity Classification Model 2"
   ]
  },
  {
   "cell_type": "markdown",
   "metadata": {},
   "source": [
    "## Libraries "
   ]
  },
  {
   "cell_type": "code",
   "execution_count": 1,
   "metadata": {},
   "outputs": [
    {
     "name": "stderr",
     "output_type": "stream",
     "text": [
      "Using TensorFlow backend.\n",
      "C:\\Users\\Student\\AppData\\Roaming\\Python\\Python36\\site-packages\\tensorflow\\python\\framework\\dtypes.py:516: FutureWarning: Passing (type, 1) or '1type' as a synonym of type is deprecated; in a future version of numpy, it will be understood as (type, (1,)) / '(1,)type'.\n",
      "  _np_qint8 = np.dtype([(\"qint8\", np.int8, 1)])\n",
      "C:\\Users\\Student\\AppData\\Roaming\\Python\\Python36\\site-packages\\tensorflow\\python\\framework\\dtypes.py:517: FutureWarning: Passing (type, 1) or '1type' as a synonym of type is deprecated; in a future version of numpy, it will be understood as (type, (1,)) / '(1,)type'.\n",
      "  _np_quint8 = np.dtype([(\"quint8\", np.uint8, 1)])\n",
      "C:\\Users\\Student\\AppData\\Roaming\\Python\\Python36\\site-packages\\tensorflow\\python\\framework\\dtypes.py:518: FutureWarning: Passing (type, 1) or '1type' as a synonym of type is deprecated; in a future version of numpy, it will be understood as (type, (1,)) / '(1,)type'.\n",
      "  _np_qint16 = np.dtype([(\"qint16\", np.int16, 1)])\n",
      "C:\\Users\\Student\\AppData\\Roaming\\Python\\Python36\\site-packages\\tensorflow\\python\\framework\\dtypes.py:519: FutureWarning: Passing (type, 1) or '1type' as a synonym of type is deprecated; in a future version of numpy, it will be understood as (type, (1,)) / '(1,)type'.\n",
      "  _np_quint16 = np.dtype([(\"quint16\", np.uint16, 1)])\n",
      "C:\\Users\\Student\\AppData\\Roaming\\Python\\Python36\\site-packages\\tensorflow\\python\\framework\\dtypes.py:520: FutureWarning: Passing (type, 1) or '1type' as a synonym of type is deprecated; in a future version of numpy, it will be understood as (type, (1,)) / '(1,)type'.\n",
      "  _np_qint32 = np.dtype([(\"qint32\", np.int32, 1)])\n",
      "C:\\Users\\Student\\AppData\\Roaming\\Python\\Python36\\site-packages\\tensorflow\\python\\framework\\dtypes.py:525: FutureWarning: Passing (type, 1) or '1type' as a synonym of type is deprecated; in a future version of numpy, it will be understood as (type, (1,)) / '(1,)type'.\n",
      "  np_resource = np.dtype([(\"resource\", np.ubyte, 1)])\n",
      "C:\\Users\\Student\\AppData\\Roaming\\Python\\Python36\\site-packages\\tensorboard\\compat\\tensorflow_stub\\dtypes.py:541: FutureWarning: Passing (type, 1) or '1type' as a synonym of type is deprecated; in a future version of numpy, it will be understood as (type, (1,)) / '(1,)type'.\n",
      "  _np_qint8 = np.dtype([(\"qint8\", np.int8, 1)])\n",
      "C:\\Users\\Student\\AppData\\Roaming\\Python\\Python36\\site-packages\\tensorboard\\compat\\tensorflow_stub\\dtypes.py:542: FutureWarning: Passing (type, 1) or '1type' as a synonym of type is deprecated; in a future version of numpy, it will be understood as (type, (1,)) / '(1,)type'.\n",
      "  _np_quint8 = np.dtype([(\"quint8\", np.uint8, 1)])\n",
      "C:\\Users\\Student\\AppData\\Roaming\\Python\\Python36\\site-packages\\tensorboard\\compat\\tensorflow_stub\\dtypes.py:543: FutureWarning: Passing (type, 1) or '1type' as a synonym of type is deprecated; in a future version of numpy, it will be understood as (type, (1,)) / '(1,)type'.\n",
      "  _np_qint16 = np.dtype([(\"qint16\", np.int16, 1)])\n",
      "C:\\Users\\Student\\AppData\\Roaming\\Python\\Python36\\site-packages\\tensorboard\\compat\\tensorflow_stub\\dtypes.py:544: FutureWarning: Passing (type, 1) or '1type' as a synonym of type is deprecated; in a future version of numpy, it will be understood as (type, (1,)) / '(1,)type'.\n",
      "  _np_quint16 = np.dtype([(\"quint16\", np.uint16, 1)])\n",
      "C:\\Users\\Student\\AppData\\Roaming\\Python\\Python36\\site-packages\\tensorboard\\compat\\tensorflow_stub\\dtypes.py:545: FutureWarning: Passing (type, 1) or '1type' as a synonym of type is deprecated; in a future version of numpy, it will be understood as (type, (1,)) / '(1,)type'.\n",
      "  _np_qint32 = np.dtype([(\"qint32\", np.int32, 1)])\n",
      "C:\\Users\\Student\\AppData\\Roaming\\Python\\Python36\\site-packages\\tensorboard\\compat\\tensorflow_stub\\dtypes.py:550: FutureWarning: Passing (type, 1) or '1type' as a synonym of type is deprecated; in a future version of numpy, it will be understood as (type, (1,)) / '(1,)type'.\n",
      "  np_resource = np.dtype([(\"resource\", np.ubyte, 1)])\n"
     ]
    }
   ],
   "source": [
    "# set the matplotlib backend so figures can be saved in the background\n",
    "import matplotlib\n",
    "matplotlib.use(\"Agg\")\n",
    "# import the necessary packages\n",
    "from keras.preprocessing.image import ImageDataGenerator\n",
    "from keras.layers.pooling import AveragePooling2D\n",
    "from keras.applications import ResNet50\n",
    "from keras.layers.core import Dropout\n",
    "from keras.layers.core import Flatten\n",
    "from keras.layers.core import Dense\n",
    "from keras.layers import Input\n",
    "from keras.models import Model\n",
    "from keras.optimizers import SGD\n",
    "from sklearn.preprocessing import LabelBinarizer\n",
    "from sklearn.model_selection import train_test_split\n",
    "from sklearn.metrics import classification_report\n",
    "from imutils import paths\n",
    "import matplotlib.pyplot as plt\n",
    "import numpy as np\n",
    "import argparse\n",
    "import pickle\n",
    "import cv2\n",
    "import os"
   ]
  },
  {
   "cell_type": "markdown",
   "metadata": {},
   "source": [
    "## Data Reading"
   ]
  },
  {
   "cell_type": "code",
   "execution_count": 2,
   "metadata": {},
   "outputs": [
    {
     "name": "stdout",
     "output_type": "stream",
     "text": [
      "[INFO] loading images...\n",
      "[INFO] loading complete.\n"
     ]
    }
   ],
   "source": [
    "# initialize the set of labels from the dataset we are\n",
    "# going to train our network on\n",
    "LABELS = set([\"Arson\", \"Common_Assault\", \"Normal\", \"Weapon\"])\n",
    "# grab the list of images in our dataset directory, then initialize\n",
    "# the list of data (i.e., images) and class images\n",
    "print(\"[INFO] loading images...\")\n",
    "imagePaths = list(paths.list_images(\"C:/Users/Student/crime-activity-classification/CrimeData/data\")) \n",
    "data = []\n",
    "labels = []\n",
    "# loop over the image paths\n",
    "for imagePath in imagePaths:\n",
    "    # extract the class label from the filename\n",
    "    label = imagePath.split(os.path.sep)[-2]\n",
    "    # if the label of the current image is not part of of the labels\n",
    "    # are interested in, then ignore the image\n",
    "    if label not in LABELS:\n",
    "        continue\n",
    "    # load the image, convert it to RGB channel ordering, and resize\n",
    "    #swapping color channels for OpenCV to Keras compatibility\n",
    "    # it to be a fixed 224x224 pixels, ignoring aspect ratio\n",
    "    image = cv2.imread(imagePath)\n",
    "    image = cv2.cvtColor(image, cv2.COLOR_BGR2RGB)\n",
    "    image = cv2.resize(image, (224, 224))\n",
    "    # update the data and labels lists, respectively\n",
    "    data.append(image)\n",
    "    labels.append(label)\n",
    "    \n",
    "print(\"[INFO] loading complete.\")"
   ]
  },
  {
   "cell_type": "markdown",
   "metadata": {},
   "source": [
    "## Data Encoding "
   ]
  },
  {
   "cell_type": "code",
   "execution_count": 3,
   "metadata": {},
   "outputs": [],
   "source": [
    "# convert the data and labels to NumPy arrays\n",
    "data = np.array(data)\n",
    "labels = np.array(labels)\n",
    "\n",
    "# perform one-hot encoding on the labels\n",
    "lb = LabelBinarizer()\n",
    "labels = lb.fit_transform(labels)\n",
    "\n",
    "# partition the data into training and testing splits using 75% of\n",
    "# the data for training and the remaining 25% for testing\n",
    "(trainX, testX, trainY, testY) = train_test_split(data, labels,\n",
    "    test_size=0.25, stratify=labels, random_state=42)"
   ]
  },
  {
   "cell_type": "markdown",
   "metadata": {},
   "source": [
    "## Data Augmentation "
   ]
  },
  {
   "cell_type": "code",
   "execution_count": 4,
   "metadata": {},
   "outputs": [],
   "source": [
    "# initialize the training data augmentation object\n",
    "trainAug = ImageDataGenerator(\n",
    "    rotation_range=30,\n",
    "    zoom_range=0.15,\n",
    "    width_shift_range=0.2,\n",
    "    height_shift_range=0.2,\n",
    "    shear_range=0.15,\n",
    "    horizontal_flip=True,\n",
    "    fill_mode=\"nearest\")\n",
    "\n",
    "# initialize the validation/testing data augmentation object (which\n",
    "# we'll be adding mean subtraction to)\n",
    "valAug = ImageDataGenerator()\n",
    "\n",
    "# define the ImageNet mean subtraction (in RGB order) and set the\n",
    "# the mean subtraction value for each of the data augmentation\n",
    "# objects\n",
    "mean = np.array([123.68, 116.779, 103.939], dtype=\"float32\")\n",
    "trainAug.mean = mean\n",
    "valAug.mean = mean"
   ]
  },
  {
   "cell_type": "markdown",
   "metadata": {},
   "source": [
    "## Transfer Learning via Fine-tuning (Model Define)"
   ]
  },
  {
   "cell_type": "code",
   "execution_count": 5,
   "metadata": {},
   "outputs": [
    {
     "name": "stdout",
     "output_type": "stream",
     "text": [
      "WARNING:tensorflow:From C:\\Users\\Student\\Anaconda3\\lib\\site-packages\\keras\\backend\\tensorflow_backend.py:4070: The name tf.nn.max_pool is deprecated. Please use tf.nn.max_pool2d instead.\n",
      "\n"
     ]
    },
    {
     "name": "stderr",
     "output_type": "stream",
     "text": [
      "C:\\Users\\Student\\AppData\\Roaming\\Python\\Python36\\site-packages\\keras_applications\\resnet50.py:265: UserWarning: The output shape of `ResNet50(include_top=False)` has been changed since Keras 2.2.0.\n",
      "  warnings.warn('The output shape of `ResNet50(include_top=False)` '\n"
     ]
    },
    {
     "name": "stdout",
     "output_type": "stream",
     "text": [
      "WARNING:tensorflow:From C:\\Users\\Student\\Anaconda3\\lib\\site-packages\\keras\\backend\\tensorflow_backend.py:4074: The name tf.nn.avg_pool is deprecated. Please use tf.nn.avg_pool2d instead.\n",
      "\n"
     ]
    }
   ],
   "source": [
    "# load the ResNet-50 network, ensuring the head FC layer sets are left\n",
    "# off\n",
    "baseModel = ResNet50(weights=\"imagenet\", include_top=False,\n",
    "    input_tensor=Input(shape=(224, 224, 3)))\n",
    "\n",
    "# construct the head of the model that will be placed on top of the\n",
    "# the base model\n",
    "headModel = baseModel.output\n",
    "headModel = AveragePooling2D(pool_size=(7, 7))(headModel)\n",
    "headModel = Flatten(name=\"flatten\")(headModel)\n",
    "headModel = Dense(512, activation=\"relu\")(headModel)\n",
    "headModel = Dropout(0.5)(headModel)\n",
    "headModel = Dense(len(lb.classes_), activation=\"softmax\")(headModel)\n",
    "\n",
    "# place the head FC model on top of the base model (this will become\n",
    "# the actual model we will train)\n",
    "model = Model(inputs=baseModel.input, outputs=headModel)\n",
    "\n",
    "# loop over all layers in the base model and freeze them so they will\n",
    "# *not* be updated during the training process\n",
    "for layer in baseModel.layers:\n",
    "    layer.trainable = False"
   ]
  },
  {
   "cell_type": "markdown",
   "metadata": {},
   "source": [
    "## Model Compile and Fit"
   ]
  },
  {
   "cell_type": "code",
   "execution_count": 6,
   "metadata": {},
   "outputs": [
    {
     "name": "stdout",
     "output_type": "stream",
     "text": [
      "[INFO] compiling model...\n",
      "[INFO] training head...\n",
      "WARNING:tensorflow:From C:\\Users\\Student\\Anaconda3\\lib\\site-packages\\keras\\backend\\tensorflow_backend.py:422: The name tf.global_variables is deprecated. Please use tf.compat.v1.global_variables instead.\n",
      "\n",
      "Epoch 1/50\n",
      "46/46 [==============================] - 656s 14s/step - loss: 1.4473 - accuracy: 0.4185 - val_loss: 1.2634 - val_accuracy: 0.6062\n",
      "Epoch 2/50\n",
      "46/46 [==============================] - 566s 12s/step - loss: 1.0827 - accuracy: 0.5978 - val_loss: 1.2443 - val_accuracy: 0.6004\n",
      "Epoch 3/50\n",
      "46/46 [==============================] - 558s 12s/step - loss: 0.9522 - accuracy: 0.6564 - val_loss: 0.6754 - val_accuracy: 0.6517\n",
      "Epoch 4/50\n",
      "46/46 [==============================] - 561s 12s/step - loss: 0.7977 - accuracy: 0.7014 - val_loss: 0.5756 - val_accuracy: 0.6581\n",
      "Epoch 5/50\n",
      "46/46 [==============================] - 557s 12s/step - loss: 0.7222 - accuracy: 0.7382 - val_loss: 0.3051 - val_accuracy: 0.6709\n",
      "Epoch 6/50\n",
      "46/46 [==============================] - 570s 12s/step - loss: 0.6540 - accuracy: 0.7622 - val_loss: 0.6358 - val_accuracy: 0.7436\n",
      "Epoch 7/50\n",
      "46/46 [==============================] - 567s 12s/step - loss: 0.6229 - accuracy: 0.7654 - val_loss: 0.7128 - val_accuracy: 0.7308\n",
      "Epoch 8/50\n",
      "46/46 [==============================] - 577s 13s/step - loss: 0.5620 - accuracy: 0.8003 - val_loss: 0.7795 - val_accuracy: 0.7778\n",
      "Epoch 9/50\n",
      "46/46 [==============================] - 584s 13s/step - loss: 0.5437 - accuracy: 0.8091 - val_loss: 0.4672 - val_accuracy: 0.7735\n",
      "Epoch 10/50\n",
      "46/46 [==============================] - 569s 12s/step - loss: 0.5008 - accuracy: 0.8323 - val_loss: 0.4614 - val_accuracy: 0.7906\n",
      "Epoch 11/50\n",
      "46/46 [==============================] - 571s 12s/step - loss: 0.4789 - accuracy: 0.8316 - val_loss: 0.4133 - val_accuracy: 0.7863\n",
      "Epoch 12/50\n",
      "46/46 [==============================] - 569s 12s/step - loss: 0.4408 - accuracy: 0.8439 - val_loss: 0.3612 - val_accuracy: 0.7991\n",
      "Epoch 13/50\n",
      "46/46 [==============================] - 645s 14s/step - loss: 0.4336 - accuracy: 0.8492 - val_loss: 0.4327 - val_accuracy: 0.8162\n",
      "Epoch 14/50\n",
      "46/46 [==============================] - 726s 16s/step - loss: 0.4263 - accuracy: 0.8536 - val_loss: 0.4916 - val_accuracy: 0.7991\n",
      "Epoch 15/50\n",
      "46/46 [==============================] - 729s 16s/step - loss: 0.4343 - accuracy: 0.8623 - val_loss: 0.3109 - val_accuracy: 0.8397\n",
      "Epoch 16/50\n",
      "46/46 [==============================] - 635s 14s/step - loss: 0.3867 - accuracy: 0.8814 - val_loss: 0.1628 - val_accuracy: 0.8376\n",
      "Epoch 17/50\n",
      "46/46 [==============================] - 590s 13s/step - loss: 0.3591 - accuracy: 0.8838 - val_loss: 0.4326 - val_accuracy: 0.8396\n",
      "Epoch 18/50\n",
      "46/46 [==============================] - 576s 13s/step - loss: 0.3686 - accuracy: 0.8700 - val_loss: 0.4854 - val_accuracy: 0.8419\n",
      "Epoch 19/50\n",
      "46/46 [==============================] - 581s 13s/step - loss: 0.3740 - accuracy: 0.8698 - val_loss: 0.2459 - val_accuracy: 0.8547\n",
      "Epoch 20/50\n",
      "46/46 [==============================] - 571s 12s/step - loss: 0.3503 - accuracy: 0.8821 - val_loss: 0.2302 - val_accuracy: 0.8782\n",
      "Epoch 21/50\n",
      "46/46 [==============================] - 605s 13s/step - loss: 0.3465 - accuracy: 0.8818 - val_loss: 0.2082 - val_accuracy: 0.8739\n",
      "Epoch 22/50\n",
      "46/46 [==============================] - 588s 13s/step - loss: 0.3440 - accuracy: 0.8828 - val_loss: 0.3500 - val_accuracy: 0.8568\n",
      "Epoch 23/50\n",
      "46/46 [==============================] - 593s 13s/step - loss: 0.3301 - accuracy: 0.8855 - val_loss: 0.2569 - val_accuracy: 0.8590\n",
      "Epoch 24/50\n",
      "46/46 [==============================] - 579s 13s/step - loss: 0.3089 - accuracy: 0.8974 - val_loss: 0.5419 - val_accuracy: 0.8739\n",
      "Epoch 25/50\n",
      "46/46 [==============================] - 600s 13s/step - loss: 0.3207 - accuracy: 0.8865 - val_loss: 0.4588 - val_accuracy: 0.8825\n",
      "Epoch 26/50\n",
      "46/46 [==============================] - 608s 13s/step - loss: 0.3190 - accuracy: 0.8906 - val_loss: 0.3153 - val_accuracy: 0.8568\n",
      "Epoch 27/50\n",
      "46/46 [==============================] - 603s 13s/step - loss: 0.3112 - accuracy: 0.8913 - val_loss: 0.2906 - val_accuracy: 0.8803\n",
      "Epoch 28/50\n",
      "46/46 [==============================] - 668s 15s/step - loss: 0.2914 - accuracy: 0.9049 - val_loss: 0.3104 - val_accuracy: 0.8825\n",
      "Epoch 29/50\n",
      "46/46 [==============================] - 662s 14s/step - loss: 0.3168 - accuracy: 0.8943 - val_loss: 0.1819 - val_accuracy: 0.8868\n",
      "Epoch 30/50\n",
      "46/46 [==============================] - 614s 13s/step - loss: 0.2840 - accuracy: 0.9042 - val_loss: 0.1758 - val_accuracy: 0.8996\n",
      "Epoch 31/50\n",
      "46/46 [==============================] - 617s 13s/step - loss: 0.2894 - accuracy: 0.8964 - val_loss: 0.1231 - val_accuracy: 0.8868\n",
      "Epoch 32/50\n",
      "46/46 [==============================] - 603s 13s/step - loss: 0.2986 - accuracy: 0.8912 - val_loss: 0.3144 - val_accuracy: 0.8868\n",
      "Epoch 33/50\n",
      "46/46 [==============================] - 598s 13s/step - loss: 0.2701 - accuracy: 0.9117 - val_loss: 0.3441 - val_accuracy: 0.8854\n",
      "Epoch 34/50\n",
      "46/46 [==============================] - 667s 14s/step - loss: 0.2891 - accuracy: 0.9104 - val_loss: 0.4290 - val_accuracy: 0.8996\n",
      "Epoch 35/50\n",
      "46/46 [==============================] - 604s 13s/step - loss: 0.2925 - accuracy: 0.8940 - val_loss: 0.1575 - val_accuracy: 0.8974\n",
      "Epoch 36/50\n",
      "46/46 [==============================] - 597s 13s/step - loss: 0.2555 - accuracy: 0.9207 - val_loss: 0.2764 - val_accuracy: 0.8675\n",
      "Epoch 37/50\n",
      "46/46 [==============================] - 606s 13s/step - loss: 0.2823 - accuracy: 0.9022 - val_loss: 0.3044 - val_accuracy: 0.8889\n",
      "Epoch 38/50\n",
      "46/46 [==============================] - 604s 13s/step - loss: 0.2686 - accuracy: 0.9018 - val_loss: 0.2451 - val_accuracy: 0.9038\n",
      "Epoch 39/50\n",
      "46/46 [==============================] - 602s 13s/step - loss: 0.2776 - accuracy: 0.9114 - val_loss: 0.3117 - val_accuracy: 0.8910\n",
      "Epoch 40/50\n",
      "46/46 [==============================] - 606s 13s/step - loss: 0.2732 - accuracy: 0.9046 - val_loss: 0.0980 - val_accuracy: 0.9081\n",
      "Epoch 41/50\n",
      "46/46 [==============================] - 601s 13s/step - loss: 0.2700 - accuracy: 0.9070 - val_loss: 0.3194 - val_accuracy: 0.8953\n",
      "Epoch 42/50\n",
      "46/46 [==============================] - 600s 13s/step - loss: 0.2463 - accuracy: 0.9171 - val_loss: 0.1667 - val_accuracy: 0.9060\n",
      "Epoch 43/50\n",
      "46/46 [==============================] - 594s 13s/step - loss: 0.2683 - accuracy: 0.9073 - val_loss: 0.2045 - val_accuracy: 0.8932\n",
      "Epoch 44/50\n",
      "46/46 [==============================] - 604s 13s/step - loss: 0.2304 - accuracy: 0.9250 - val_loss: 0.1582 - val_accuracy: 0.9231\n",
      "Epoch 45/50\n",
      "46/46 [==============================] - 605s 13s/step - loss: 0.2350 - accuracy: 0.9166 - val_loss: 0.2765 - val_accuracy: 0.8974\n",
      "Epoch 46/50\n",
      "46/46 [==============================] - 571s 12s/step - loss: 0.2394 - accuracy: 0.9246 - val_loss: 0.2185 - val_accuracy: 0.9038\n",
      "Epoch 47/50\n",
      "46/46 [==============================] - 568s 12s/step - loss: 0.2407 - accuracy: 0.9216 - val_loss: 0.2249 - val_accuracy: 0.9145\n",
      "Epoch 48/50\n",
      "46/46 [==============================] - 597s 13s/step - loss: 0.2540 - accuracy: 0.9168 - val_loss: 0.0375 - val_accuracy: 0.9145\n",
      "Epoch 49/50\n",
      "46/46 [==============================] - 605s 13s/step - loss: 0.2207 - accuracy: 0.9305 - val_loss: 0.3946 - val_accuracy: 0.9167\n",
      "Epoch 50/50\n",
      "46/46 [==============================] - 581s 13s/step - loss: 0.2321 - accuracy: 0.9243 - val_loss: 0.1376 - val_accuracy: 0.9081\n",
      "[INFO] training complete.\n"
     ]
    }
   ],
   "source": [
    "# compile our model (this needs to be done after our setting our\n",
    "# layers to being non-trainable)\n",
    "print(\"[INFO] compiling model...\")\n",
    "opt = SGD(lr=1e-4, momentum=0.9, decay=1e-4 / 50) \n",
    "model.compile(loss=\"categorical_crossentropy\", optimizer=opt,\n",
    "    metrics=[\"accuracy\"])\n",
    "\n",
    "# train the head of the network for a few epochs (all other layers\n",
    "# are frozen) -- this will allow the new FC layers to start to become\n",
    "# initialized with actual \"learned\" values versus pure random\n",
    "print(\"[INFO] training head...\")\n",
    "H = model.fit_generator(\n",
    "    trainAug.flow(trainX, trainY, batch_size=32),\n",
    "    steps_per_epoch=len(trainX) // 32,\n",
    "    validation_data=valAug.flow(testX, testY),\n",
    "    validation_steps=len(testX) // 32,\n",
    "    epochs= 50)\n",
    "print(\"[INFO] training complete.\")"
   ]
  },
  {
   "cell_type": "markdown",
   "metadata": {},
   "source": [
    "## Model Evaluate "
   ]
  },
  {
   "cell_type": "code",
   "execution_count": 7,
   "metadata": {},
   "outputs": [
    {
     "name": "stdout",
     "output_type": "stream",
     "text": [
      "[INFO] evaluating network...\n",
      "                precision    recall  f1-score   support\n",
      "\n",
      "         Arson       0.88      0.78      0.82        54\n",
      "Common_Assault       0.86      0.77      0.81        57\n",
      "        Normal       0.91      0.99      0.95       305\n",
      "        Weapon       0.99      0.81      0.89        84\n",
      "\n",
      "   avg / total       0.91      0.91      0.91       500\n",
      "\n"
     ]
    }
   ],
   "source": [
    "# evaluate the network\n",
    "print(\"[INFO] evaluating network...\")\n",
    "predictions = model.predict(testX, batch_size=32)\n",
    "print(classification_report(testY.argmax(axis=1),\n",
    "    predictions.argmax(axis=1), target_names=lb.classes_))"
   ]
  },
  {
   "cell_type": "markdown",
   "metadata": {},
   "source": [
    "## Model Train Loss and Accuracy Plot"
   ]
  },
  {
   "cell_type": "code",
   "execution_count": 8,
   "metadata": {},
   "outputs": [],
   "source": [
    "# plot the training loss and accuracy\n",
    "N = 50 \n",
    "plt.style.use(\"ggplot\")\n",
    "plt.figure()\n",
    "plt.plot(np.arange(0, N), H.history[\"loss\"], label=\"train_loss\")\n",
    "plt.plot(np.arange(0, N), H.history[\"val_loss\"], label=\"val_loss\")\n",
    "plt.plot(np.arange(0, N), H.history[\"accuracy\"], label=\"train_acc\")\n",
    "plt.plot(np.arange(0, N), H.history[\"val_accuracy\"], label=\"val_acc\")\n",
    "plt.title(\"Training Loss and Accuracy on Dataset\")\n",
    "plt.xlabel(\"Epoch #\")\n",
    "plt.ylabel(\"Loss/Accuracy\")\n",
    "plt.legend(loc=\"lower left\")\n",
    "plt.savefig(\"Nplot.png\") "
   ]
  },
  {
   "cell_type": "markdown",
   "metadata": {},
   "source": [
    "## Model Save"
   ]
  },
  {
   "cell_type": "code",
   "execution_count": 9,
   "metadata": {},
   "outputs": [
    {
     "name": "stdout",
     "output_type": "stream",
     "text": [
      "[INFO] serializing network...\n"
     ]
    }
   ],
   "source": [
    "# serialize the model to disk\n",
    "print(\"[INFO] serializing network...\")\n",
    "model.save('CrimeActivityN.model')\n",
    "\n",
    "# serialize the label binarizer to disk\n",
    "f = open('lb.Npickle', \"wb\")\n",
    "f.write(pickle.dumps(lb))\n",
    "f.close()"
   ]
  }
 ],
 "metadata": {
  "hide_input": false,
  "kernelspec": {
   "display_name": "Python 3",
   "language": "python",
   "name": "python3"
  },
  "language_info": {
   "codemirror_mode": {
    "name": "ipython",
    "version": 3
   },
   "file_extension": ".py",
   "mimetype": "text/x-python",
   "name": "python",
   "nbconvert_exporter": "python",
   "pygments_lexer": "ipython3",
   "version": "3.8.3"
  },
  "latex_envs": {
   "LaTeX_envs_menu_present": true,
   "autoclose": false,
   "autocomplete": true,
   "bibliofile": "biblio.bib",
   "cite_by": "apalike",
   "current_citInitial": 1,
   "eqLabelWithNumbers": true,
   "eqNumInitial": 1,
   "hotkeys": {
    "equation": "Ctrl-E",
    "itemize": "Ctrl-I"
   },
   "labels_anchors": false,
   "latex_user_defs": false,
   "report_style_numbering": false,
   "user_envs_cfg": false
  },
  "toc": {
   "base_numbering": 1,
   "nav_menu": {},
   "number_sections": true,
   "sideBar": true,
   "skip_h1_title": false,
   "title_cell": "Table of Contents",
   "title_sidebar": "Contents",
   "toc_cell": true,
   "toc_position": {},
   "toc_section_display": true,
   "toc_window_display": false
  }
 },
 "nbformat": 4,
 "nbformat_minor": 2
}
